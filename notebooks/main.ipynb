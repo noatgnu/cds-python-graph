{
 "cells": [
  {
   "cell_type": "code",
   "execution_count": null,
   "metadata": {},
   "outputs": [],
   "source": [
    "import pandas as pd"
   ]
  },
  {
   "cell_type": "markdown",
   "metadata": {},
   "source": [
    "# Working with real world data"
   ]
  },
  {
   "cell_type": "code",
   "execution_count": null,
   "metadata": {},
   "outputs": [],
   "source": [
    "file_path = \"../data/WHS8_110.csv\"\n",
    "measles_1 = pd.read_csv(file_path)\n",
    "# Column name incorrect\n",
    "measles_1.head()"
   ]
  },
  {
   "cell_type": "code",
   "execution_count": null,
   "metadata": {},
   "outputs": [],
   "source": [
    "measles_1 = pd.read_csv(file_path, header=[0, 1])\n",
    "# Multilevel column name\n",
    "measles_1.head()\n"
   ]
  },
  {
   "cell_type": "code",
   "execution_count": null,
   "metadata": {},
   "outputs": [],
   "source": [
    "measles_1 = pd.read_csv(file_path, header=[0, 1], index_col=0)\n",
    "# Indexed at country name\n",
    "measles_1.head()"
   ]
  },
  {
   "cell_type": "code",
   "execution_count": null,
   "metadata": {},
   "outputs": [],
   "source": [
    "measles_1.columns\n",
    "# name too long and there are space infront of year\n",
    "# Index type is immutable so we can't just change the value within the index\n",
    "# Index have to be unique"
   ]
  },
  {
   "cell_type": "code",
   "execution_count": null,
   "metadata": {},
   "outputs": [],
   "source": [
    "measles_1.columns.names = [\"Dose\", \"Year\"]\n",
    "measles_1.head()"
   ]
  },
  {
   "cell_type": "code",
   "execution_count": null,
   "metadata": {},
   "outputs": [],
   "source": [
    "measles_1.columns = measles_1.columns.set_levels([\"M1\"], level=0)\n",
    "measles_1.columns"
   ]
  },
  {
   "cell_type": "code",
   "execution_count": null,
   "metadata": {},
   "outputs": [],
   "source": [
    "measles_1.columns = measles_1.columns.set_levels([int(i.strip()) for i in measles_1.columns.levels[1]], level=1)\n",
    "measles_1.columns"
   ]
  },
  {
   "cell_type": "markdown",
   "metadata": {},
   "source": [
    "# Plotting with Matplotlib"
   ]
  },
  {
   "cell_type": "code",
   "execution_count": null,
   "metadata": {},
   "outputs": [],
   "source": [
    "measles_1[\"M1\"].head()"
   ]
  },
  {
   "cell_type": "code",
   "execution_count": null,
   "metadata": {},
   "outputs": [],
   "source": [
    "import matplotlib.pyplot as plt\n",
    "plt.scatter(measles_1.loc[\"Australia\"][\"M1\"].index, measles_1.loc[\"Australia\"][\"M1\"])"
   ]
  },
  {
   "cell_type": "code",
   "execution_count": null,
   "metadata": {},
   "outputs": [],
   "source": [
    "plt.plot(measles_1.loc[\"Australia\"][\"M1\"].index, measles_1.loc[\"Australia\"][\"M1\"])"
   ]
  },
  {
   "cell_type": "code",
   "execution_count": null,
   "metadata": {},
   "outputs": [],
   "source": [
    "plt.scatter(measles_1.loc[\"Australia\"][\"M1\"].index, measles_1.loc[\"Australia\"][\"M1\"])\n",
    "plt.plot(measles_1.loc[\"Australia\"][\"M1\"].index, measles_1.loc[\"Australia\"][\"M1\"])"
   ]
  },
  {
   "cell_type": "code",
   "execution_count": null,
   "metadata": {},
   "outputs": [],
   "source": [
    "plt.plot(measles_1.loc[\"Australia\"][\"M1\"].index, measles_1.loc[\"Australia\"][\"M1\"])\n",
    "plt.plot(measles_1.loc[\"United States of America\"][\"M1\"])\n",
    "plt.legend()"
   ]
  },
  {
   "cell_type": "code",
   "execution_count": null,
   "metadata": {},
   "outputs": [],
   "source": [
    "plt.plot(measles_1.loc[\"Australia\"][\"M1\"].index, measles_1.loc[\"Australia\"][\"M1\"], color='g')\n",
    "plt.plot(measles_1.loc[\"United States of America\"][\"M1\"], color='r')\n",
    "plt.legend()"
   ]
  },
  {
   "cell_type": "code",
   "execution_count": null,
   "metadata": {},
   "outputs": [],
   "source": [
    "combined = measles_1.loc[[\"United States of America\", \"Australia\"]]\n",
    "combined.head()"
   ]
  },
  {
   "cell_type": "code",
   "execution_count": null,
   "metadata": {},
   "outputs": [],
   "source": [
    "combined.loc[\"Australia\"].max()"
   ]
  },
  {
   "cell_type": "code",
   "execution_count": null,
   "metadata": {},
   "outputs": [],
   "source": [
    "combined.max()"
   ]
  },
  {
   "cell_type": "code",
   "execution_count": null,
   "metadata": {},
   "outputs": [],
   "source": [
    "# max() function did not work on a single data series but it work on a dataframe."
   ]
  },
  {
   "cell_type": "code",
   "execution_count": null,
   "metadata": {},
   "outputs": [],
   "source": [
    "combined.max(numeric_only=True)"
   ]
  },
  {
   "cell_type": "code",
   "execution_count": null,
   "metadata": {},
   "outputs": [],
   "source": [
    "# All other column values are not integer type\n",
    "combined = combined.applymap(lambda x: x if type(x) is not str else int(x))\n",
    "combined.max(numeric_only=True)"
   ]
  },
  {
   "cell_type": "code",
   "execution_count": null,
   "metadata": {},
   "outputs": [],
   "source": [
    "combined[\"M1\"]"
   ]
  },
  {
   "cell_type": "code",
   "execution_count": null,
   "metadata": {},
   "outputs": [],
   "source": [
    "# https://matplotlib.org/examples/color/colormaps_reference.html\n",
    "fig, ax = plt.subplots()\n",
    "hm = ax.pcolormesh(combined[\"M1\"].values, cmap='plasma', vmin=0, vmax=100)\n",
    "\n",
    "ax.set_xticks([i+0.5 for i in range(0, len(combined[\"M1\"].columns))])\n",
    "ax.set_xticklabels(combined[\"M1\"].columns)\n",
    "for label in ax.get_xticklabels():\n",
    "    label.set_rotation(90)\n",
    "ax.set_yticks([i+ 0.5 for i in range(0, len(combined[\"M1\"].index))])\n",
    "ax.set_yticklabels(combined[\"M1\"].index)\n",
    "cbar = plt.colorbar(hm, ax=ax, pad=.015, aspect=10)\n"
   ]
  },
  {
   "cell_type": "code",
   "execution_count": null,
   "metadata": {},
   "outputs": [],
   "source": [
    "# Now let do a heatmap of the whole dataset.\n",
    "\n",
    "\n",
    "measles_1.applymap(lambda x: x if type(x) is not str else int(x))\n",
    "# Error due to at least one value can't be converted into int"
   ]
  },
  {
   "cell_type": "code",
   "execution_count": null,
   "metadata": {},
   "outputs": [],
   "source": [
    "measles_1 = measles_1.applymap(lambda x: (x) if type(x) is not str else (int(x.split()[0]) if \" \" in x else int(x)))"
   ]
  },
  {
   "cell_type": "code",
   "execution_count": null,
   "metadata": {},
   "outputs": [],
   "source": [
    "measles_1.head()"
   ]
  },
  {
   "cell_type": "code",
   "execution_count": null,
   "metadata": {},
   "outputs": [],
   "source": [
    "fig2, ax2 = plt.subplots(figsize=(10,40))\n",
    "hm = ax2.pcolormesh(measles_1[\"M1\"].values, cmap='plasma', vmin=0, vmax=100)\n",
    "\n",
    "ax2.set_xticks([i+0.5 for i in range(0, len(measles_1[\"M1\"].columns))])\n",
    "ax2.set_xticklabels(measles_1[\"M1\"].columns)\n",
    "for label in ax2.get_xticklabels():\n",
    "    label.set_rotation(90)\n",
    "ax2.set_yticks([i+ 0.5 for i in range(0, len(measles_1[\"M1\"].index))])\n",
    "ax2.set_yticklabels(measles_1[\"M1\"].index)\n",
    "cbar = plt.colorbar(hm, ax=ax2, pad=.015, aspect=10)"
   ]
  },
  {
   "cell_type": "code",
   "execution_count": null,
   "metadata": {},
   "outputs": [],
   "source": [
    "file_path2 = \"..\\data\\MCV2.csv\"\n",
    "measles_2 = pd.read_csv(file_path2, header=[0, 1], index_col=0)\n",
    "measles_2.columns.names = [\"Dose\", \"Year\"]\n",
    "measles_2.columns = measles_2.columns.set_levels([\"M2\"], level=0)\n",
    "measles_2.columns = measles_2.columns.set_levels([int(i.strip()) for i in measles_2.columns.levels[1]], level=1)\n",
    "measles_2 = measles_2.applymap(lambda x: (x) if type(x) is not str else (int(x.split()[0]) if \" \" in x else int(x)))\n",
    "measles = measles_1.join(measles_2)\n",
    "\n",
    "measles.head()"
   ]
  },
  {
   "cell_type": "code",
   "execution_count": null,
   "metadata": {
    "scrolled": true
   },
   "outputs": [],
   "source": [
    "def make_hm(ax, dose, title):\n",
    "    hm = ax.pcolormesh(measles[dose].values, cmap='plasma', vmin=0, vmax=100)\n",
    "    ax.set_xticks([i+0.5 for i in range(0, len(measles[dose].columns))])\n",
    "    ax.set_xticklabels(measles[dose].columns)\n",
    "    for label in ax.get_xticklabels():\n",
    "        label.set_rotation(90)\n",
    "    ax.set_yticks([i+ 0.5 for i in range(0, len(measles[dose].index))])\n",
    "    ax.set_yticklabels(measles[dose].index)\n",
    "    ax.set_title(title)\n",
    "    cbar = plt.colorbar(hm, ax=ax, pad=.015, aspect=50)\n",
    "\n",
    "fig3, (ax_m1, ax_m2) = plt.subplots(1, 2, figsize=(60,40))\n",
    "make_hm(ax_m1, \"M1\", \"Measles First Dose Statistics\")\n",
    "make_hm(ax_m2, \"M2\", \"Measles Second Dose Statistics\")\n"
   ]
  },
  {
   "cell_type": "code",
   "execution_count": null,
   "metadata": {},
   "outputs": [],
   "source": [
    "# Saving image in SVG format\n",
    "fig3.savefig(\"measles.svg\")"
   ]
  },
  {
   "cell_type": "markdown",
   "metadata": {},
   "source": [
    "# Plotting with Bokeh"
   ]
  },
  {
   "cell_type": "code",
   "execution_count": null,
   "metadata": {},
   "outputs": [],
   "source": [
    "# Plotting with Bokeh\n",
    "from bokeh.plotting import figure, output_file, show, curdoc\n",
    "m1 = measles.loc[\"Australia\", \"M1\"]\n",
    "m1.head()"
   ]
  },
  {
   "cell_type": "code",
   "execution_count": null,
   "metadata": {},
   "outputs": [],
   "source": [
    "m2 = measles.loc[\"Australia\", \"M2\"]\n",
    "m2.head()"
   ]
  },
  {
   "cell_type": "code",
   "execution_count": null,
   "metadata": {},
   "outputs": [],
   "source": [
    "output_file('measles.html')\n",
    "p = figure(title=\"Measles\", x_axis_label=\"Years\", y_axis_label=\"Coverage (%)\")"
   ]
  },
  {
   "cell_type": "code",
   "execution_count": null,
   "metadata": {},
   "outputs": [],
   "source": [
    "p.line(m1.index, m1, legend=\"M1\")"
   ]
  },
  {
   "cell_type": "code",
   "execution_count": null,
   "metadata": {},
   "outputs": [],
   "source": [
    "show(p)"
   ]
  },
  {
   "cell_type": "code",
   "execution_count": null,
   "metadata": {},
   "outputs": [],
   "source": [
    "p.line(m2.index, m2, legend=\"M2\", line_color=\"red\")"
   ]
  },
  {
   "cell_type": "code",
   "execution_count": null,
   "metadata": {},
   "outputs": [],
   "source": [
    "show(p)"
   ]
  },
  {
   "cell_type": "code",
   "execution_count": null,
   "metadata": {},
   "outputs": [],
   "source": [
    "# Bring legend out\n",
    "from bokeh.models import Legend\n",
    "curdoc().clear()\n",
    "output_file('measles.html')\n",
    "p = figure(title=\"Measles\", x_axis_label=\"Years\", y_axis_label=\"Coverage (%)\", toolbar_location=\"above\")\n",
    "m1 = p.line(m1.index , m1, line_color=\"green\")\n",
    "m2 = p.line(m2.index, m2, line_color=\"red\")\n",
    "legend = Legend(items=[\n",
    "    (\"M1\", [m1]),\n",
    "    (\"M2\", [m2])\n",
    "], location=(10, 30))\n",
    "p.add_layout(legend, 'right')\n",
    "\n",
    "show(p)"
   ]
  },
  {
   "cell_type": "code",
   "execution_count": null,
   "metadata": {},
   "outputs": [],
   "source": [
    "# Combining line and circle\n",
    "curdoc().clear()\n",
    "TOOLS = \"crosshair,pan,wheel_zoom,box_zoom,reset,box_select,lasso_select\"\n",
    "output_file('measles.html')\n",
    "p = figure(title=\"Measles\", x_axis_label=\"Years\", y_axis_label=\"Coverage (%)\", toolbar_location=\"above\", tools=TOOLS)\n",
    "m1_circle = p.circle(m1.index, m1, radius=0.3, fill_color=\"green\", line_color=None)\n",
    "m2_circle = p.circle(m2.index, m2, radius=0.3, fill_color=\"red\", line_color=None)\n",
    "m1_line = p.line(m1.index, m1, line_color=\"green\")\n",
    "m2_line = p.line(m2.index, m2, line_color=\"red\")\n",
    "legend = Legend(items=[\n",
    "    (\"M1\", [m1_circle, m1_line]),\n",
    "    (\"M2\", [m2_circle, m2_line])\n",
    "], location=(10, 30))\n",
    "p.add_layout(legend, 'right')\n",
    "\n",
    "show(p)"
   ]
  },
  {
   "cell_type": "code",
   "execution_count": null,
   "metadata": {},
   "outputs": [],
   "source": [
    "# Multiple graphs\n",
    "from bokeh.layouts import gridplot\n",
    "\n",
    "data = measles.loc[[\"Australia\", \"United States of America\"]]\n",
    "data.head()"
   ]
  },
  {
   "cell_type": "code",
   "execution_count": null,
   "metadata": {},
   "outputs": [],
   "source": [
    "curdoc().clear()\n",
    "TOOLS = \"crosshair,pan,wheel_zoom,box_zoom,reset,box_select,lasso_select\"\n",
    "output_file('measles.html')\n",
    "figure_list = []\n",
    "for i in data.index:\n",
    "    country_m1 = data.loc[i][\"M1\"]\n",
    "    country_m2 = data.loc[i][\"M2\"]\n",
    "    p = figure(title=i, x_axis_label=\"Years\", y_axis_label=\"Coverage (%)\", toolbar_location=\"above\", tools=TOOLS)\n",
    "    m1_triangle = p.triangle(country_m1.index, country_m1, size=10, fill_color=\"navy\", line_color=None, alpha=0.5)\n",
    "    m2_square = p.square(country_m2.index, country_m2, size=10, fill_color=\"olive\", line_color=None, alpha=0.5)\n",
    "    legend = Legend(items=[\n",
    "        (\"M1\", [m1_triangle]),\n",
    "        (\"M2\", [m2_square])\n",
    "    ], location=(10, 30))\n",
    "    p.add_layout(legend, \"right\")\n",
    "    figure_list.append(p)\n",
    "graph = gridplot([figure_list])\n",
    "show(graph)"
   ]
  },
  {
   "cell_type": "code",
   "execution_count": null,
   "metadata": {},
   "outputs": [],
   "source": [
    "from bokeh.models import LinearColorMapper, BasicTicker, PrintfTickFormatter, ColorBar\n",
    "from bokeh.palettes import Plasma"
   ]
  },
  {
   "cell_type": "code",
   "execution_count": null,
   "metadata": {},
   "outputs": [],
   "source": [
    "# Transpose the data so that years will become index and country become columns\n",
    "data_t = data.T\n",
    "data_t.columns.name = \"Country\"\n",
    "# Get a list of years to be use as x axis of heatmap and convert them to categorical\n",
    "years = list(data_t.loc[\"M1\"].index.astype(str))\n",
    "# Get a list of countries from columns attribute of the dataframe\n",
    "countries = list(data_t.loc[\"M1\"].columns)\n",
    "# Reduce column index by one level and shift the removed index level into one column then convert Year into a normal column\n",
    "data_long = data_t.loc[\"M1\"].stack().reset_index()\n",
    "data_long.head()"
   ]
  },
  {
   "cell_type": "code",
   "execution_count": null,
   "metadata": {},
   "outputs": [],
   "source": [
    "# Rename the newly created column 0 and convert Year column into categorical\n",
    "data_long = data_long.rename({0:\"Coverage\"}, axis=\"columns\")\n",
    "data_long[\"Year\"] = data_long[\"Year\"].astype(str)\n",
    "data_long.head()"
   ]
  },
  {
   "cell_type": "code",
   "execution_count": null,
   "metadata": {},
   "outputs": [],
   "source": [
    "# Heatmap using plasma color palette\n",
    "color_list = Plasma[10]\n",
    "curdoc().clear()\n",
    "mapper = LinearColorMapper(palette=color_list, low=0, high=100)\n",
    "p = figure(title=\"Measles First Dose Coverage\", \n",
    "           x_range=years, \n",
    "           y_range=countries, \n",
    "           x_axis_location=\"above\", plot_width=900, plot_height=200,\n",
    "           tools=TOOLS, \n",
    "           toolbar_location='below')\n",
    "p.grid.grid_line_color = None\n",
    "p.axis.axis_line_color = None\n",
    "p.axis.major_tick_line_color = None\n",
    "p.axis.major_label_standoff = 0\n",
    "p.xaxis.major_label_orientation = pi / 3\n",
    "\n",
    "p.rect(x=\"Year\", y=\"Country\", width=1, height=1,\n",
    "       source=data_long,\n",
    "       fill_color={'field': 'Coverage', 'transform': mapper},\n",
    "       line_color=None)\n",
    "\n",
    "cbar = ColorBar(color_mapper=mapper, location=(0,0))\n",
    "p.add_layout(cbar, \"right\")\n",
    "show(p)"
   ]
  },
  {
   "cell_type": "code",
   "execution_count": null,
   "metadata": {},
   "outputs": [],
   "source": [
    "# Heatmap using custom color palette as well as adding annotation and other styling option\n",
    "color_list = ['#550b1d', '#933b41', '#cc7878', '#ddb7b1', '#dfccce', '#e2e2e2', '#c9d9d3', '#a5bab7', '#75968f']\n",
    "curdoc().clear()\n",
    "mapper = LinearColorMapper(palette=color_list, low=0, high=100)\n",
    "p = figure(title=\"Measles First Dose Coverage\", \n",
    "           x_range=years, \n",
    "           y_range=countries, \n",
    "           x_axis_location=\"above\", plot_width=900, plot_height=400,\n",
    "           tools=TOOLS, \n",
    "           toolbar_location='below', tooltips=[('Year', '@Year'), ('Country', '@Country'), ('Coverage', '@Coverage%')])\n",
    "\n",
    "p.grid.grid_line_color = None\n",
    "p.axis.axis_line_color = None\n",
    "p.axis.major_tick_line_color = None\n",
    "p.axis.major_label_standoff = 0\n",
    "p.xaxis.major_label_orientation = pi / 3\n",
    "\n",
    "p.rect(x=\"Year\", y=\"Country\", width=1, height=1,\n",
    "       source=data_long,\n",
    "       fill_color={'field': 'Coverage', 'transform': mapper},\n",
    "       line_color=None)\n",
    "\n",
    "cbar = ColorBar(color_mapper=mapper,\n",
    "                     ticker=BasicTicker(desired_num_ticks=len(color_list)),\n",
    "                     formatter=PrintfTickFormatter(format=\"%d%%\"),\n",
    "                     label_standoff=6, border_line_color=None,location=(0,0))\n",
    "p.add_layout(cbar, \"right\")\n",
    "show(p)"
   ]
  },
  {
   "cell_type": "code",
   "execution_count": null,
   "metadata": {},
   "outputs": [],
   "source": [
    "# Gridplot with two heatmap of measles coverage with every country\n",
    "curdoc().clear()\n",
    "figures = []\n",
    "data_t = measles.T\n",
    "data_t.columns.name = \"Country\"\n",
    "for i in data_t.index.levels[0]:\n",
    "    years = list(data_t.loc[i].index.astype(str))\n",
    "    countries = list(data_t.loc[i].columns)\n",
    "    data_long = data_t.loc[i].stack().reset_index()\n",
    "    data_long = data_long.rename({0:\"Coverage\"}, axis=\"columns\")\n",
    "    data_long[\"Year\"] = data_long[\"Year\"].astype(str)\n",
    "    p = figure(title=\"{0} Coverage {1}-{2}\".format(i, years[0], years[-1]), \n",
    "               x_range=years, \n",
    "               y_range=countries, \n",
    "               x_axis_location=\"above\", plot_width=900, plot_height=4000,\n",
    "               tools=TOOLS, \n",
    "               toolbar_location='below', tooltips=[('Year', '@Year'), ('Country', '@Country'), ('Coverage', '@Coverage%')])\n",
    "\n",
    "    p.grid.grid_line_color = None\n",
    "    p.axis.axis_line_color = None\n",
    "    p.axis.major_tick_line_color = None\n",
    "    p.axis.major_label_standoff = 0\n",
    "    p.xaxis.major_label_orientation = pi / 3\n",
    "\n",
    "    p.rect(x=\"Year\", y=\"Country\", width=1, height=1,\n",
    "           source=data_long,\n",
    "           fill_color={'field': 'Coverage', 'transform': mapper},\n",
    "           line_color=None)\n",
    "\n",
    "    cbar = ColorBar(color_mapper=mapper,\n",
    "                         ticker=BasicTicker(desired_num_ticks=len(color_list)),\n",
    "                         formatter=PrintfTickFormatter(format=\"%d%%\"),\n",
    "                         label_standoff=6, border_line_color=None,location=(0,0), height=200)\n",
    "    p.add_layout(cbar, \"right\")\n",
    "    figures.append(p)\n",
    "grid = gridplot([figures])\n",
    "show(grid)"
   ]
  },
  {
   "cell_type": "code",
   "execution_count": null,
   "metadata": {},
   "outputs": [],
   "source": []
  }
 ],
 "metadata": {
  "kernelspec": {
   "display_name": "Python 3",
   "language": "python",
   "name": "python3"
  },
  "language_info": {
   "codemirror_mode": {
    "name": "ipython",
    "version": 3
   },
   "file_extension": ".py",
   "mimetype": "text/x-python",
   "name": "python",
   "nbconvert_exporter": "python",
   "pygments_lexer": "ipython3",
   "version": "3.6.6"
  }
 },
 "nbformat": 4,
 "nbformat_minor": 1
}
